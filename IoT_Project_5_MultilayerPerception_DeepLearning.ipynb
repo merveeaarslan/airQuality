{
 "cells": [
  {
   "cell_type": "code",
   "execution_count": 39,
   "id": "b50917bc",
   "metadata": {},
   "outputs": [],
   "source": [
    "#DeepLearning-MultilayerPerceptron\n",
    "\n",
    "import matplotlib.pyplot as plt\n",
    "import tensorflow as tf\n",
    "import numpy as np\n",
    "import pandas as pd\n",
    "from sklearn.preprocessing import LabelEncoder\n",
    "from sklearn.utils import shuffle\n",
    "from sklearn.model_selection import train_test_split\n",
    "\n",
    "def read_dataset():\n",
    "    data = pd.read_csv(r\"C:\\Users\\merve\\Desktop\\tavsanliHavaKalitesi.csv\")\n",
    "    print(len(data.columns))\n",
    "    X = data[data.columns[0:5]].values\n",
    "    y = data[data.columns[5]]\n",
    "    \n",
    "     #Bağımlı değişken\n",
    "    Y = one_hot_encode(y)\n",
    "    print(X.shape)\n",
    "    return (X, Y)"
   ]
  },
  {
   "cell_type": "code",
   "execution_count": 40,
   "id": "740694d4",
   "metadata": {},
   "outputs": [],
   "source": [
    "#Encoder fonksiyonu\n",
    "def one_hot_encode(n):\n",
    "    label = len(n)\n",
    "    n_unique_labels = len(np.unique(n))\n",
    "    one_hot_encode = np.zeros((label, n_unique_labels))\n",
    "    one_hot_encode[np.arange(label), n] = 1\n",
    "    return one_hot_encode"
   ]
  },
  {
   "cell_type": "code",
   "execution_count": 41,
   "id": "9d68b5d6",
   "metadata": {},
   "outputs": [
    {
     "name": "stdout",
     "output_type": "stream",
     "text": [
      "6\n",
      "(547, 5)\n"
     ]
    }
   ],
   "source": [
    "X, Y = read_dataset()\n",
    "# Satırları karıştırmak için veri kümesini karıştırma.\n",
    "#eğitim ve test\n",
    "X, Y = shuffle(X, Y, random_state=1)\n",
    "X_train, X_test, Y_train, Y_test = train_test_split(X, Y, test_size=0.30, random_state=0)"
   ]
  },
  {
   "cell_type": "code",
   "execution_count": 42,
   "id": "0b881836",
   "metadata": {},
   "outputs": [
    {
     "name": "stdout",
     "output_type": "stream",
     "text": [
      "n_dim 5\n"
     ]
    }
   ],
   "source": [
    "#Önemli parametreler ve değişkenler\n",
    "learning_rate = 0.3\n",
    "training_epochs = 100\n",
    "cost_history = np.empty(shape=[1], dtype=float)\n",
    "n_dim = X.shape[1]\n",
    "print(\"n_dim\", n_dim)\n",
    "n_class = 2\n",
    "model_path = \"C:/Users/merve/Desktop/MLPDL\""
   ]
  },
  {
   "cell_type": "code",
   "execution_count": 43,
   "id": "58ab5e85",
   "metadata": {},
   "outputs": [],
   "source": [
    "import tensorflow.compat.v1 as tf\n",
    "tf.disable_v2_behavior()\n",
    "n_hidden_1 = 4\n",
    "n_hidden_2 = 4\n",
    "n_hidden_3 = 4\n",
    "n_hidden_4 = 4\n",
    "\n",
    "x = tf.placeholder(tf.float32, [None, n_dim])\n",
    "W = tf.Variable(tf.zeros([n_dim, n_class]))\n",
    "b = tf.Variable(tf.zeros([n_class]))\n",
    "y = tf.placeholder(tf.float32, [None, n_class])"
   ]
  },
  {
   "cell_type": "code",
   "execution_count": 44,
   "id": "d96d1a23",
   "metadata": {},
   "outputs": [],
   "source": [
    "# Model\n",
    "def multilayer_perceptron(x, weights, biases):\n",
    "\n",
    "    # RELU aktivasyon fonksiyonları ile gizli katman\n",
    "    layer_1 = tf.add(tf.matmul(x, weights['h1']), biases['b1'])\n",
    "    layer_1 = tf.nn.relu(layer_1)\n",
    "\n",
    "    layer_2 = tf.add(tf.matmul(layer_1, weights['h2']), biases['b2'])\n",
    "    layer_2 = tf.nn.relu(layer_2)\n",
    "\n",
    "    layer_3 = tf.add(tf.matmul(layer_2, weights['h3']), biases['b3'])\n",
    "    layer_3 = tf.nn.relu(layer_3)\n",
    "     \n",
    "    #SİGMOİD akivasyon fonksiyonu ile \n",
    "    layer_4 = tf.add(tf.matmul(layer_3, weights['h4']), biases['b4'])\n",
    "    layer_4 = tf.nn.sigmoid(layer_4)\n",
    "\n",
    "    # Lineer aktivasyonlu çıktı katmanı\n",
    "    out_layer = tf.matmul(layer_4, weights['out']) + biases['out']\n",
    "    return out_layer\n"
   ]
  },
  {
   "cell_type": "code",
   "execution_count": 45,
   "id": "a86fba9b",
   "metadata": {},
   "outputs": [],
   "source": [
    "# Her katman için ağırlıkları ve biasları tanımlama\n",
    "\n",
    "weights = {\n",
    "    'h1': tf.Variable(tf.truncated_normal([n_dim, n_hidden_1])),\n",
    "    'h2': tf.Variable(tf.truncated_normal([n_hidden_1, n_hidden_2])),\n",
    "    'h3': tf.Variable(tf.truncated_normal([n_hidden_2, n_hidden_3])),\n",
    "    'h4': tf.Variable(tf.truncated_normal([n_hidden_3, n_hidden_4])),\n",
    "    'out': tf.Variable(tf.truncated_normal([n_hidden_4, n_class]))\n",
    "}\n",
    "biases = {\n",
    "    'b1': tf.Variable(tf.truncated_normal([n_hidden_1])),\n",
    "    'b2': tf.Variable(tf.truncated_normal([n_hidden_2])),\n",
    "    'b3': tf.Variable(tf.truncated_normal([n_hidden_3])),\n",
    "    'b4': tf.Variable(tf.truncated_normal([n_hidden_4])),\n",
    "    'out': tf.Variable(tf.truncated_normal([n_class]))\n",
    "}"
   ]
  },
  {
   "cell_type": "code",
   "execution_count": 46,
   "id": "daf9a350",
   "metadata": {},
   "outputs": [],
   "source": [
    "# Tüm değişkenleri başlatma.\n",
    "init = tf.global_variables_initializer()\n",
    "saver = tf.train.Saver()"
   ]
  },
  {
   "cell_type": "code",
   "execution_count": 47,
   "id": "120ca241",
   "metadata": {},
   "outputs": [],
   "source": [
    "# Model tanımlama.\n",
    "m = multilayer_perceptron(x, weights, biases)\n",
    "\n",
    "# Maliyet fonksiyonunu ve optimize ediciyi tanımlama.\n",
    "cost_function = tf.reduce_mean(tf.nn.softmax_cross_entropy_with_logits(logits=m, labels=y))\n",
    "training_step = tf.train.GradientDescentOptimizer(learning_rate).minimize(cost_function)\n",
    "\n",
    "sess = tf.Session()\n",
    "sess.run(init)"
   ]
  },
  {
   "cell_type": "code",
   "execution_count": 48,
   "id": "ee2ca7ec",
   "metadata": {},
   "outputs": [
    {
     "name": "stdout",
     "output_type": "stream",
     "text": [
      "epoch :  0  -  cost:  0.7865405  - MSE:  2.6664225189757547 - Train Accuracy:  0.59947646\n",
      "epoch :  1  -  cost:  0.7223227  - MSE:  2.4709444033728363 - Train Accuracy:  0.59947646\n",
      "epoch :  2  -  cost:  0.69264406  - MSE:  2.375930838501975 - Train Accuracy:  0.59947646\n",
      "epoch :  3  -  cost:  0.68020636  - MSE:  2.3326146155052827 - Train Accuracy:  0.59947646\n",
      "epoch :  4  -  cost:  0.67579955  - MSE:  2.312143080128053 - Train Accuracy:  0.59947646\n",
      "epoch :  5  -  cost:  0.67424995  - MSE:  2.302350816521377 - Train Accuracy:  0.59947646\n",
      "epoch :  6  -  cost:  0.6737089  - MSE:  2.297433983976619 - Train Accuracy:  0.59947646\n",
      "epoch :  7  -  cost:  0.6735132  - MSE:  2.294853845776207 - Train Accuracy:  0.59947646\n",
      "epoch :  8  -  cost:  0.6734344  - MSE:  2.2934530194828815 - Train Accuracy:  0.59947646\n",
      "epoch :  9  -  cost:  0.6733952  - MSE:  2.292674421603956 - Train Accuracy:  0.59947646\n",
      "epoch :  10  -  cost:  0.6733772  - MSE:  2.2922346965853513 - Train Accuracy:  0.59947646\n",
      "epoch :  11  -  cost:  0.6733591  - MSE:  2.2920046647792987 - Train Accuracy:  0.59947646\n",
      "epoch :  12  -  cost:  0.6733432  - MSE:  2.2918560679638245 - Train Accuracy:  0.59947646\n",
      "epoch :  13  -  cost:  0.6733313  - MSE:  2.2917912732225036 - Train Accuracy:  0.59947646\n",
      "epoch :  14  -  cost:  0.6733145  - MSE:  2.291734922001934 - Train Accuracy:  0.59947646\n",
      "epoch :  15  -  cost:  0.6733054  - MSE:  2.2917231876334543 - Train Accuracy:  0.59947646\n",
      "epoch :  16  -  cost:  0.6732892  - MSE:  2.291696632595796 - Train Accuracy:  0.59947646\n",
      "epoch :  17  -  cost:  0.67327994  - MSE:  2.2916782205711717 - Train Accuracy:  0.59947646\n",
      "epoch :  18  -  cost:  0.67326593  - MSE:  2.2916828095672623 - Train Accuracy:  0.59947646\n",
      "epoch :  19  -  cost:  0.67325413  - MSE:  2.291669984410845 - Train Accuracy:  0.59947646\n",
      "epoch :  20  -  cost:  0.67324305  - MSE:  2.2916783396218823 - Train Accuracy:  0.59947646\n",
      "epoch :  21  -  cost:  0.6732307  - MSE:  2.2916664354473832 - Train Accuracy:  0.59947646\n",
      "epoch :  22  -  cost:  0.6732213  - MSE:  2.2916746653550013 - Train Accuracy:  0.59947646\n",
      "epoch :  23  -  cost:  0.6732081  - MSE:  2.2916627903526074 - Train Accuracy:  0.59947646\n",
      "epoch :  24  -  cost:  0.6732002  - MSE:  2.291671278632507 - Train Accuracy:  0.59947646\n",
      "epoch :  25  -  cost:  0.6731871  - MSE:  2.291661042868711 - Train Accuracy:  0.59947646\n",
      "epoch :  26  -  cost:  0.6731791  - MSE:  2.291650949887541 - Train Accuracy:  0.59947646\n",
      "epoch :  27  -  cost:  0.67316735  - MSE:  2.2916574673425387 - Train Accuracy:  0.59947646\n",
      "epoch :  28  -  cost:  0.6731579  - MSE:  2.291648233429059 - Train Accuracy:  0.59947646\n",
      "epoch :  29  -  cost:  0.67314756  - MSE:  2.291655122251778 - Train Accuracy:  0.59947646\n",
      "epoch :  30  -  cost:  0.6731372  - MSE:  2.29164432181948 - Train Accuracy:  0.59947646\n",
      "epoch :  31  -  cost:  0.6731283  - MSE:  2.2916525590211547 - Train Accuracy:  0.59947646\n",
      "epoch :  32  -  cost:  0.67311734  - MSE:  2.291641180906309 - Train Accuracy:  0.59947646\n",
      "epoch :  33  -  cost:  0.6731093  - MSE:  2.2916481531559234 - Train Accuracy:  0.59947646\n",
      "epoch :  34  -  cost:  0.6730983  - MSE:  2.2916375077012976 - Train Accuracy:  0.59947646\n",
      "epoch :  35  -  cost:  0.6730908  - MSE:  2.2916440221743213 - Train Accuracy:  0.59947646\n",
      "epoch :  36  -  cost:  0.6730797  - MSE:  2.291631580592254 - Train Accuracy:  0.59947646\n",
      "epoch :  37  -  cost:  0.67307264  - MSE:  2.29162170716211 - Train Accuracy:  0.59947646\n",
      "epoch :  38  -  cost:  0.67306376  - MSE:  2.2916370456948387 - Train Accuracy:  0.59947646\n",
      "epoch :  39  -  cost:  0.6730528  - MSE:  2.2916227292988287 - Train Accuracy:  0.59947646\n",
      "epoch :  40  -  cost:  0.67304593  - MSE:  2.2916109680159313 - Train Accuracy:  0.59947646\n",
      "epoch :  41  -  cost:  0.67303747  - MSE:  2.2916268917924727 - Train Accuracy:  0.59947646\n",
      "epoch :  42  -  cost:  0.6730269  - MSE:  2.2916087235305063 - Train Accuracy:  0.59947646\n",
      "epoch :  43  -  cost:  0.6730191  - MSE:  2.291596494115113 - Train Accuracy:  0.59947646\n",
      "epoch :  44  -  cost:  0.6730117  - MSE:  2.2916094115386643 - Train Accuracy:  0.59947646\n",
      "epoch :  45  -  cost:  0.6730014  - MSE:  2.2915899156004116 - Train Accuracy:  0.59947646\n",
      "epoch :  46  -  cost:  0.6729929  - MSE:  2.291576540916548 - Train Accuracy:  0.59947646\n",
      "epoch :  47  -  cost:  0.6729865  - MSE:  2.291588551288806 - Train Accuracy:  0.59947646\n",
      "epoch :  48  -  cost:  0.6729765  - MSE:  2.291569353998709 - Train Accuracy:  0.59947646\n",
      "epoch :  49  -  cost:  0.67296726  - MSE:  2.291554674807784 - Train Accuracy:  0.59947646\n",
      "epoch :  50  -  cost:  0.67296165  - MSE:  2.2915641291080524 - Train Accuracy:  0.59947646\n",
      "epoch :  51  -  cost:  0.6729518  - MSE:  2.291543912388347 - Train Accuracy:  0.59947646\n",
      "epoch :  52  -  cost:  0.6729424  - MSE:  2.2915302437326517 - Train Accuracy:  0.59947646\n",
      "epoch :  53  -  cost:  0.67293674  - MSE:  2.291518542276579 - Train Accuracy:  0.59947646\n",
      "epoch :  54  -  cost:  0.6729304  - MSE:  2.2915404129850048 - Train Accuracy:  0.59947646\n",
      "epoch :  55  -  cost:  0.6729198  - MSE:  2.2915114705809483 - Train Accuracy:  0.59947646\n",
      "epoch :  56  -  cost:  0.67291033  - MSE:  2.2914919551891826 - Train Accuracy:  0.59947646\n",
      "epoch :  57  -  cost:  0.6729026  - MSE:  2.2914780633628853 - Train Accuracy:  0.59947646\n",
      "epoch :  58  -  cost:  0.6728969  - MSE:  2.2914907187698845 - Train Accuracy:  0.59947646\n",
      "epoch :  59  -  cost:  0.67288697  - MSE:  2.2914649496079957 - Train Accuracy:  0.59947646\n",
      "epoch :  60  -  cost:  0.6728778  - MSE:  2.291448448744809 - Train Accuracy:  0.59947646\n",
      "epoch :  61  -  cost:  0.6728703  - MSE:  2.2914350808635358 - Train Accuracy:  0.59947646\n",
      "epoch :  62  -  cost:  0.67286456  - MSE:  2.2914473053333055 - Train Accuracy:  0.59947646\n",
      "epoch :  63  -  cost:  0.6728544  - MSE:  2.2914208995336596 - Train Accuracy:  0.59947646\n",
      "epoch :  64  -  cost:  0.6728452  - MSE:  2.2914030055204795 - Train Accuracy:  0.59947646\n",
      "epoch :  65  -  cost:  0.67283756  - MSE:  2.291388793318292 - Train Accuracy:  0.59947646\n",
      "epoch :  66  -  cost:  0.6728316  - MSE:  2.2913997379200524 - Train Accuracy:  0.59947646\n",
      "epoch :  67  -  cost:  0.6728215  - MSE:  2.2913727978887573 - Train Accuracy:  0.59947646\n",
      "epoch :  68  -  cost:  0.6728121  - MSE:  2.291355522353916 - Train Accuracy:  0.59947646\n",
      "epoch :  69  -  cost:  0.6728039  - MSE:  2.29134100632914 - Train Accuracy:  0.59947646\n",
      "epoch :  70  -  cost:  0.6727978  - MSE:  2.2913491878939665 - Train Accuracy:  0.59947646\n",
      "epoch :  71  -  cost:  0.6727873  - MSE:  2.2913246109862575 - Train Accuracy:  0.59947646\n",
      "epoch :  72  -  cost:  0.6727776  - MSE:  2.2913067082641354 - Train Accuracy:  0.59947646\n",
      "epoch :  73  -  cost:  0.67276967  - MSE:  2.291292617697248 - Train Accuracy:  0.59947646\n",
      "epoch :  74  -  cost:  0.67276233  - MSE:  2.291302519722994 - Train Accuracy:  0.59947646\n",
      "epoch :  75  -  cost:  0.6727513  - MSE:  2.2912763830377596 - Train Accuracy:  0.59947646\n",
      "epoch :  76  -  cost:  0.67274076  - MSE:  2.2912590046513417 - Train Accuracy:  0.59947646\n",
      "epoch :  77  -  cost:  0.6727316  - MSE:  2.2912453251125386 - Train Accuracy:  0.59947646\n",
      "epoch :  78  -  cost:  0.6727229  - MSE:  2.2912538768410946 - Train Accuracy:  0.59947646\n",
      "epoch :  79  -  cost:  0.6727105  - MSE:  2.2912300943857313 - Train Accuracy:  0.59947646\n",
      "epoch :  80  -  cost:  0.672698  - MSE:  2.2912138075125466 - Train Accuracy:  0.59947646\n",
      "epoch :  81  -  cost:  0.67268753  - MSE:  2.291200912361046 - Train Accuracy:  0.59947646\n",
      "epoch :  82  -  cost:  0.6726755  - MSE:  2.2912123851471726 - Train Accuracy:  0.59947646\n",
      "epoch :  83  -  cost:  0.6726591  - MSE:  2.2911920215063466 - Train Accuracy:  0.59947646\n",
      "epoch :  84  -  cost:  0.67264265  - MSE:  2.2911761845221035 - Train Accuracy:  0.59947646\n",
      "epoch :  85  -  cost:  0.67262566  - MSE:  2.291179608044592 - Train Accuracy:  0.59947646\n",
      "epoch :  86  -  cost:  0.67260313  - MSE:  2.291165511295927 - Train Accuracy:  0.59947646\n",
      "epoch :  87  -  cost:  0.672579  - MSE:  2.2911566232249116 - Train Accuracy:  0.59947646\n",
      "epoch :  88  -  cost:  0.67254823  - MSE:  2.2911679886378056 - Train Accuracy:  0.59947646\n",
      "epoch :  89  -  cost:  0.67250884  - MSE:  2.291159169566334 - Train Accuracy:  0.59947646\n",
      "epoch :  90  -  cost:  0.6724607  - MSE:  2.291167021847092 - Train Accuracy:  0.59947646\n"
     ]
    },
    {
     "name": "stdout",
     "output_type": "stream",
     "text": [
      "epoch :  91  -  cost:  0.67239904  - MSE:  2.2911685720279387 - Train Accuracy:  0.59947646\n",
      "epoch :  92  -  cost:  0.67232317  - MSE:  2.29118805681924 - Train Accuracy:  0.59947646\n",
      "epoch :  93  -  cost:  0.6722373  - MSE:  2.291209884920434 - Train Accuracy:  0.59947646\n",
      "epoch :  94  -  cost:  0.6721504  - MSE:  2.2912378065681773 - Train Accuracy:  0.59947646\n",
      "epoch :  95  -  cost:  0.6720741  - MSE:  2.291270733476432 - Train Accuracy:  0.59947646\n",
      "epoch :  96  -  cost:  0.6720137  - MSE:  2.291305625710408 - Train Accuracy:  0.59947646\n",
      "epoch :  97  -  cost:  0.67196816  - MSE:  2.291339030630093 - Train Accuracy:  0.59947646\n",
      "epoch :  98  -  cost:  0.67193365  - MSE:  2.2913690557958124 - Train Accuracy:  0.59947646\n",
      "epoch :  99  -  cost:  0.67190653  - MSE:  2.291395456681613 - Train Accuracy:  0.59947646\n",
      "Model dosyaya kaydedildi: C:/Users/merve/Desktop/MLPDL\n"
     ]
    }
   ],
   "source": [
    "# Her dönem için maliyeti ve doğruluğu hesaplama.\n",
    "mse_history = []\n",
    "accuracy_history = []\n",
    "\n",
    "for epoch in range(training_epochs):\n",
    "    sess.run(training_step, feed_dict={x: X_train, y: Y_train})\n",
    "    cost = sess.run(cost_function, feed_dict={x: X_train, y: Y_train})\n",
    "    cost_history = np.append(cost_history, cost)\n",
    "    correct_prediction = tf.equal(tf.argmax(m, 1), tf.argmax(y, 1))\n",
    "    accuracy = tf.reduce_mean(tf.cast(correct_prediction, tf.float32))\n",
    "    prediction = sess.run(m, feed_dict={x: X_test})\n",
    "    mse = tf.reduce_mean(tf.square(prediction - Y_test))\n",
    "    mse_ = sess.run(mse)\n",
    "    mse_history.append(mse_)\n",
    "    accuracy = (sess.run(accuracy, feed_dict={x: X_train, y: Y_train}))\n",
    "    accuracy_history.append(accuracy)\n",
    "    print('epoch : ', epoch, ' - ', 'cost: ', cost, \" - MSE: \", mse_, \"- Train Accuracy: \", accuracy)\n",
    "\n",
    "save_path = saver.save(sess, model_path)\n",
    "print(\"Model dosyaya kaydedildi: %s\" % save_path)"
   ]
  },
  {
   "cell_type": "code",
   "execution_count": 49,
   "id": "c122a3ae",
   "metadata": {},
   "outputs": [
    {
     "data": {
      "image/png": "[encoded data removed]",
      "text/plain": [
       "<Figure size 432x288 with 1 Axes>"
      ]
     },
     "metadata": {
      "needs_background": "light"
     },
     "output_type": "display_data"
    }
   ],
   "source": [
    "# Doğruluk oranı grafiği\n",
    "plt.plot(accuracy_history)\n",
    "plt.xlabel('Epoch')\n",
    "plt.ylabel('Accuracy')\n",
    "plt.show()"
   ]
  },
  {
   "cell_type": "code",
   "execution_count": 50,
   "id": "bd7ba1ee",
   "metadata": {},
   "outputs": [
    {
     "name": "stdout",
     "output_type": "stream",
     "text": [
      "Test Accuracy:  0.58181816\n",
      "MSE: 2.2914\n"
     ]
    }
   ],
   "source": [
    "# Son doğruluğu yazdırın.\n",
    "\n",
    "correct_prediction = tf.equal(tf.argmax(m, 1), tf.argmax(y, 1))\n",
    "accuracy = tf.reduce_mean(tf.cast(correct_prediction, tf.float32))\n",
    "print(\"Test Accuracy: \", (sess.run(accuracy, feed_dict={x: X_test, y: Y_test})))\n",
    "\n",
    "# Son ortalama kare hatasını yazdırın.\n",
    "\n",
    "prediction = sess.run(m, feed_dict={x: X_test})\n",
    "mse = tf.reduce_mean(tf.square(prediction - Y_test))\n",
    "print(\"MSE: %.4f\" % sess.run(mse))"
   ]
  },
  {
   "cell_type": "code",
   "execution_count": 51,
   "id": "1b79c332",
   "metadata": {},
   "outputs": [
    {
     "name": "stdout",
     "output_type": "stream",
     "text": [
      "Classification Report:\n",
      "              precision    recall  f1-score   support\n",
      "\n",
      "           0       0.58      1.00      0.74        96\n",
      "           1       0.00      0.00      0.00        69\n",
      "\n",
      "    accuracy                           0.58       165\n",
      "   macro avg       0.29      0.50      0.37       165\n",
      "weighted avg       0.34      0.58      0.43       165\n",
      "\n",
      "RMSE:\n",
      "0.6466697906828632\n"
     ]
    },
    {
     "name": "stderr",
     "output_type": "stream",
     "text": [
      "C:\\Users\\merve\\anaconda3\\envs\\tensorflow_envr\\lib\\site-packages\\sklearn\\metrics\\_classification.py:1245: UndefinedMetricWarning: Precision and F-score are ill-defined and being set to 0.0 in labels with no predicted samples. Use `zero_division` parameter to control this behavior.\n",
      "  _warn_prf(average, modifier, msg_start, len(result))\n",
      "C:\\Users\\merve\\anaconda3\\envs\\tensorflow_envr\\lib\\site-packages\\sklearn\\metrics\\_classification.py:1245: UndefinedMetricWarning: Precision and F-score are ill-defined and being set to 0.0 in labels with no predicted samples. Use `zero_division` parameter to control this behavior.\n",
      "  _warn_prf(average, modifier, msg_start, len(result))\n",
      "C:\\Users\\merve\\anaconda3\\envs\\tensorflow_envr\\lib\\site-packages\\sklearn\\metrics\\_classification.py:1245: UndefinedMetricWarning: Precision and F-score are ill-defined and being set to 0.0 in labels with no predicted samples. Use `zero_division` parameter to control this behavior.\n",
      "  _warn_prf(average, modifier, msg_start, len(result))\n"
     ]
    }
   ],
   "source": [
    "#Performans Ölçütleri\n",
    "import sklearn.metrics as metrics\n",
    "from sklearn.metrics import classification_report, confusion_matrix, accuracy_score\n",
    "prediction=np.argmax(prediction, axis=1)\n",
    "Y_test=np.argmax(Y_test, axis=1)\n",
    "result1 = classification_report(Y_test, prediction)\n",
    "print(\"Classification Report:\",)\n",
    "print (result1)\n",
    "print(\"RMSE:\")\n",
    "print(np.sqrt(metrics.mean_squared_error(Y_test, prediction)))"
   ]
  }
 ],
 "metadata": {
  "kernelspec": {
   "display_name": "Python 3",
   "language": "python",
   "name": "python3"
  },
  "language_info": {
   "codemirror_mode": {
    "name": "ipython",
    "version": 3
   },
   "file_extension": ".py",
   "mimetype": "text/x-python",
   "name": "python",
   "nbconvert_exporter": "python",
   "pygments_lexer": "ipython3",
   "version": "3.8.8"
  }
 },
 "nbformat": 4,
 "nbformat_minor": 5
}
