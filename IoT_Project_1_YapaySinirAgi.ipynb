{
 "cells": [
  {
   "cell_type": "code",
   "execution_count": 17,
   "id": "361c475c",
   "metadata": {},
   "outputs": [],
   "source": [
    "import pandas as pd\n",
    "import math\n",
    "from sklearn.model_selection import train_test_split\n",
    "from sklearn.preprocessing import MinMaxScaler\n",
    "from keras.models import Sequential\n",
    "from keras.layers import Dense, Dropout, Activation\n",
    "from keras.optimizers import Adam"
   ]
  },
  {
   "cell_type": "code",
   "execution_count": 18,
   "id": "ec7240b4",
   "metadata": {},
   "outputs": [
    {
     "data": {
      "text/html": [
       "<div>\n",
       "<style scoped>\n",
       "    .dataframe tbody tr th:only-of-type {\n",
       "        vertical-align: middle;\n",
       "    }\n",
       "\n",
       "    .dataframe tbody tr th {\n",
       "        vertical-align: top;\n",
       "    }\n",
       "\n",
       "    .dataframe thead th {\n",
       "        text-align: right;\n",
       "    }\n",
       "</style>\n",
       "<table border=\"1\" class=\"dataframe\">\n",
       "  <thead>\n",
       "    <tr style=\"text-align: right;\">\n",
       "      <th></th>\n",
       "      <th>PM10 ( µg/m3 )</th>\n",
       "      <th>SO2 ( µg/m3 )</th>\n",
       "      <th>NO2 ( µg/m3 )</th>\n",
       "      <th>NOX ( µg/m3 )</th>\n",
       "      <th>PM 2.5 ( µg/m3 )</th>\n",
       "      <th>kalite</th>\n",
       "    </tr>\n",
       "  </thead>\n",
       "  <tbody>\n",
       "    <tr>\n",
       "      <th>0</th>\n",
       "      <td>18.98</td>\n",
       "      <td>40.06</td>\n",
       "      <td>14.24</td>\n",
       "      <td>32.99</td>\n",
       "      <td>10.74</td>\n",
       "      <td>1</td>\n",
       "    </tr>\n",
       "    <tr>\n",
       "      <th>1</th>\n",
       "      <td>27.72</td>\n",
       "      <td>49.80</td>\n",
       "      <td>14.76</td>\n",
       "      <td>32.97</td>\n",
       "      <td>17.53</td>\n",
       "      <td>0</td>\n",
       "    </tr>\n",
       "    <tr>\n",
       "      <th>2</th>\n",
       "      <td>31.96</td>\n",
       "      <td>65.48</td>\n",
       "      <td>14.59</td>\n",
       "      <td>36.73</td>\n",
       "      <td>18.64</td>\n",
       "      <td>0</td>\n",
       "    </tr>\n",
       "    <tr>\n",
       "      <th>3</th>\n",
       "      <td>8.09</td>\n",
       "      <td>36.59</td>\n",
       "      <td>15.84</td>\n",
       "      <td>28.18</td>\n",
       "      <td>3.60</td>\n",
       "      <td>1</td>\n",
       "    </tr>\n",
       "    <tr>\n",
       "      <th>4</th>\n",
       "      <td>17.33</td>\n",
       "      <td>48.34</td>\n",
       "      <td>14.56</td>\n",
       "      <td>37.10</td>\n",
       "      <td>9.28</td>\n",
       "      <td>0</td>\n",
       "    </tr>\n",
       "  </tbody>\n",
       "</table>\n",
       "</div>"
      ],
      "text/plain": [
       "   PM10 ( µg/m3 )  SO2 ( µg/m3 )  NO2 ( µg/m3 )  NOX ( µg/m3 )  \\\n",
       "0           18.98          40.06          14.24          32.99   \n",
       "1           27.72          49.80          14.76          32.97   \n",
       "2           31.96          65.48          14.59          36.73   \n",
       "3            8.09          36.59          15.84          28.18   \n",
       "4           17.33          48.34          14.56          37.10   \n",
       "\n",
       "   PM 2.5 ( µg/m3 )  kalite  \n",
       "0             10.74       1  \n",
       "1             17.53       0  \n",
       "2             18.64       0  \n",
       "3              3.60       1  \n",
       "4              9.28       0  "
      ]
     },
     "execution_count": 18,
     "metadata": {},
     "output_type": "execute_result"
    }
   ],
   "source": [
    "data = pd.read_csv(r\"C:\\Users\\merve\\Desktop\\tavsanliHavaKalitesi.csv\")\n",
    "data.head()"
   ]
  },
  {
   "cell_type": "code",
   "execution_count": 19,
   "id": "d55a9a88",
   "metadata": {},
   "outputs": [
    {
     "data": {
      "text/plain": [
       "(547, 5)"
      ]
     },
     "execution_count": 19,
     "metadata": {},
     "output_type": "execute_result"
    }
   ],
   "source": [
    "X = data.drop(columns=['kalite'])\n",
    "X.head()\n",
    "X.shape"
   ]
  },
  {
   "cell_type": "code",
   "execution_count": 20,
   "id": "0e5892e3",
   "metadata": {},
   "outputs": [
    {
     "data": {
      "text/plain": [
       "(547, 1)"
      ]
     },
     "execution_count": 20,
     "metadata": {},
     "output_type": "execute_result"
    }
   ],
   "source": [
    "y = data[['kalite']]\n",
    "y.head()\n",
    "y.shape"
   ]
  },
  {
   "cell_type": "code",
   "execution_count": 21,
   "id": "6f40e795",
   "metadata": {},
   "outputs": [],
   "source": [
    "#ön işlem-norm.\n",
    "values = data.values.reshape(-1,1)\n",
    "values = values.astype('float32')\n",
    "scaler = MinMaxScaler(feature_range=(0, 1))\n",
    "dataset = scaler.fit_transform(values)"
   ]
  },
  {
   "cell_type": "code",
   "execution_count": 22,
   "id": "f900d4c0",
   "metadata": {},
   "outputs": [],
   "source": [
    "#eğitim ve test\n",
    "X_train,X_test,Y_train,Y_test=train_test_split(X,y,random_state=0,test_size=0.3)\n",
    "from sklearn.preprocessing import StandardScaler\n",
    "sc_X = StandardScaler()\n",
    "X_train = sc_X.fit_transform(X_train)\n",
    "X_test = sc_X.transform(X_test)"
   ]
  },
  {
   "cell_type": "code",
   "execution_count": 23,
   "id": "7fd5dadb",
   "metadata": {},
   "outputs": [],
   "source": [
    "#Katmanlar\n",
    "model = Sequential()\n",
    "model.add(Dense(10, input_dim=5, activation='relu'))\n",
    "model.add(Dense(8,  activation='relu'))\n",
    "model.add(Dense(1,  activation='sigmoid'))"
   ]
  },
  {
   "cell_type": "code",
   "execution_count": 24,
   "id": "942adc3e",
   "metadata": {},
   "outputs": [
    {
     "name": "stdout",
     "output_type": "stream",
     "text": [
      "Epoch 1/100\n",
      "39/39 [==============================] - 0s 2ms/step - loss: 0.7184 - accuracy: 0.4607\n",
      "Epoch 2/100\n",
      "39/39 [==============================] - 0s 2ms/step - loss: 0.6701 - accuracy: 0.6257\n",
      "Epoch 3/100\n",
      "39/39 [==============================] - 0s 2ms/step - loss: 0.6317 - accuracy: 0.6885\n",
      "Epoch 4/100\n",
      "39/39 [==============================] - 0s 3ms/step - loss: 0.5959 - accuracy: 0.7225\n",
      "Epoch 5/100\n",
      "39/39 [==============================] - 0s 3ms/step - loss: 0.5605 - accuracy: 0.7539\n",
      "Epoch 6/100\n",
      "39/39 [==============================] - 0s 3ms/step - loss: 0.5230 - accuracy: 0.7932\n",
      "Epoch 7/100\n",
      "39/39 [==============================] - 0s 2ms/step - loss: 0.4858 - accuracy: 0.8351\n",
      "Epoch 8/100\n",
      "39/39 [==============================] - 0s 2ms/step - loss: 0.4489 - accuracy: 0.8613\n",
      "Epoch 9/100\n",
      "39/39 [==============================] - 0s 2ms/step - loss: 0.4138 - accuracy: 0.8901\n",
      "Epoch 10/100\n",
      "39/39 [==============================] - 0s 2ms/step - loss: 0.3784 - accuracy: 0.8953\n",
      "Epoch 11/100\n",
      "39/39 [==============================] - 0s 2ms/step - loss: 0.3460 - accuracy: 0.9084\n",
      "Epoch 12/100\n",
      "39/39 [==============================] - 0s 2ms/step - loss: 0.3188 - accuracy: 0.9136\n",
      "Epoch 13/100\n",
      "39/39 [==============================] - 0s 2ms/step - loss: 0.2957 - accuracy: 0.9084\n",
      "Epoch 14/100\n",
      "39/39 [==============================] - 0s 3ms/step - loss: 0.2772 - accuracy: 0.9188\n",
      "Epoch 15/100\n",
      "39/39 [==============================] - 0s 2ms/step - loss: 0.2618 - accuracy: 0.9215\n",
      "Epoch 16/100\n",
      "39/39 [==============================] - 0s 3ms/step - loss: 0.2509 - accuracy: 0.9215\n",
      "Epoch 17/100\n",
      "39/39 [==============================] - 0s 2ms/step - loss: 0.2401 - accuracy: 0.9215\n",
      "Epoch 18/100\n",
      "39/39 [==============================] - 0s 2ms/step - loss: 0.2313 - accuracy: 0.9293\n",
      "Epoch 19/100\n",
      "39/39 [==============================] - 0s 2ms/step - loss: 0.2224 - accuracy: 0.9215\n",
      "Epoch 20/100\n",
      "39/39 [==============================] - 0s 2ms/step - loss: 0.2152 - accuracy: 0.9241\n",
      "Epoch 21/100\n",
      "39/39 [==============================] - 0s 2ms/step - loss: 0.2086 - accuracy: 0.9319\n",
      "Epoch 22/100\n",
      "39/39 [==============================] - ETA: 0s - loss: 0.2087 - accuracy: 0.92 - 0s 2ms/step - loss: 0.2050 - accuracy: 0.9346\n",
      "Epoch 23/100\n",
      "39/39 [==============================] - 0s 2ms/step - loss: 0.1960 - accuracy: 0.9319\n",
      "Epoch 24/100\n",
      "39/39 [==============================] - 0s 2ms/step - loss: 0.1917 - accuracy: 0.9267\n",
      "Epoch 25/100\n",
      "39/39 [==============================] - 0s 2ms/step - loss: 0.1862 - accuracy: 0.9424\n",
      "Epoch 26/100\n",
      "39/39 [==============================] - 0s 2ms/step - loss: 0.1795 - accuracy: 0.9476\n",
      "Epoch 27/100\n",
      "39/39 [==============================] - 0s 2ms/step - loss: 0.1756 - accuracy: 0.9319\n",
      "Epoch 28/100\n",
      "39/39 [==============================] - 0s 2ms/step - loss: 0.1706 - accuracy: 0.9424\n",
      "Epoch 29/100\n",
      "39/39 [==============================] - 0s 2ms/step - loss: 0.1660 - accuracy: 0.9450\n",
      "Epoch 30/100\n",
      "39/39 [==============================] - 0s 3ms/step - loss: 0.1624 - accuracy: 0.9476\n",
      "Epoch 31/100\n",
      "39/39 [==============================] - 0s 3ms/step - loss: 0.1587 - accuracy: 0.9529\n",
      "Epoch 32/100\n",
      "39/39 [==============================] - 0s 2ms/step - loss: 0.1568 - accuracy: 0.9450\n",
      "Epoch 33/100\n",
      "39/39 [==============================] - 0s 2ms/step - loss: 0.1518 - accuracy: 0.9529\n",
      "Epoch 34/100\n",
      "39/39 [==============================] - 0s 2ms/step - loss: 0.1500 - accuracy: 0.9450\n",
      "Epoch 35/100\n",
      "39/39 [==============================] - 0s 2ms/step - loss: 0.1458 - accuracy: 0.9503\n",
      "Epoch 36/100\n",
      "39/39 [==============================] - 0s 2ms/step - loss: 0.1424 - accuracy: 0.9529\n",
      "Epoch 37/100\n",
      "39/39 [==============================] - 0s 2ms/step - loss: 0.1408 - accuracy: 0.9476\n",
      "Epoch 38/100\n",
      "39/39 [==============================] - 0s 2ms/step - loss: 0.1378 - accuracy: 0.9607\n",
      "Epoch 39/100\n",
      "39/39 [==============================] - 0s 2ms/step - loss: 0.1351 - accuracy: 0.9581\n",
      "Epoch 40/100\n",
      "39/39 [==============================] - 0s 2ms/step - loss: 0.1323 - accuracy: 0.9581\n",
      "Epoch 41/100\n",
      "39/39 [==============================] - 0s 2ms/step - loss: 0.1299 - accuracy: 0.9581\n",
      "Epoch 42/100\n",
      "39/39 [==============================] - 0s 2ms/step - loss: 0.1276 - accuracy: 0.9555\n",
      "Epoch 43/100\n",
      "39/39 [==============================] - 0s 2ms/step - loss: 0.1253 - accuracy: 0.9660\n",
      "Epoch 44/100\n",
      "39/39 [==============================] - 0s 2ms/step - loss: 0.1227 - accuracy: 0.9634\n",
      "Epoch 45/100\n",
      "39/39 [==============================] - 0s 2ms/step - loss: 0.1215 - accuracy: 0.9660\n",
      "Epoch 46/100\n",
      "39/39 [==============================] - 0s 2ms/step - loss: 0.1204 - accuracy: 0.9634\n",
      "Epoch 47/100\n",
      "39/39 [==============================] - 0s 2ms/step - loss: 0.1175 - accuracy: 0.9738\n",
      "Epoch 48/100\n",
      "39/39 [==============================] - 0s 2ms/step - loss: 0.1155 - accuracy: 0.9660\n",
      "Epoch 49/100\n",
      "39/39 [==============================] - ETA: 0s - loss: 0.1089 - accuracy: 0.97 - 0s 2ms/step - loss: 0.1136 - accuracy: 0.9686\n",
      "Epoch 50/100\n",
      "39/39 [==============================] - 0s 2ms/step - loss: 0.1120 - accuracy: 0.9686\n",
      "Epoch 51/100\n",
      "39/39 [==============================] - 0s 2ms/step - loss: 0.1109 - accuracy: 0.9686\n",
      "Epoch 52/100\n",
      "39/39 [==============================] - 0s 3ms/step - loss: 0.1093 - accuracy: 0.9712\n",
      "Epoch 53/100\n",
      "39/39 [==============================] - 0s 3ms/step - loss: 0.1073 - accuracy: 0.9738\n",
      "Epoch 54/100\n",
      "39/39 [==============================] - 0s 3ms/step - loss: 0.1063 - accuracy: 0.9712: 0s - loss: 0.1038 - accuracy: 0.97\n",
      "Epoch 55/100\n",
      "39/39 [==============================] - 0s 3ms/step - loss: 0.1057 - accuracy: 0.9712\n",
      "Epoch 56/100\n",
      "39/39 [==============================] - 0s 2ms/step - loss: 0.1038 - accuracy: 0.9738\n",
      "Epoch 57/100\n",
      "39/39 [==============================] - 0s 2ms/step - loss: 0.1020 - accuracy: 0.9712\n",
      "Epoch 58/100\n",
      "39/39 [==============================] - 0s 3ms/step - loss: 0.1004 - accuracy: 0.9738\n",
      "Epoch 59/100\n",
      "39/39 [==============================] - 0s 3ms/step - loss: 0.1000 - accuracy: 0.9712\n",
      "Epoch 60/100\n",
      "39/39 [==============================] - 0s 2ms/step - loss: 0.0986 - accuracy: 0.9764\n",
      "Epoch 61/100\n",
      "39/39 [==============================] - 0s 2ms/step - loss: 0.0963 - accuracy: 0.9738\n",
      "Epoch 62/100\n",
      "39/39 [==============================] - 0s 2ms/step - loss: 0.0952 - accuracy: 0.9738\n",
      "Epoch 63/100\n",
      "39/39 [==============================] - 0s 2ms/step - loss: 0.0942 - accuracy: 0.9791\n",
      "Epoch 64/100\n",
      "39/39 [==============================] - 0s 3ms/step - loss: 0.0937 - accuracy: 0.9738\n",
      "Epoch 65/100\n",
      "39/39 [==============================] - 0s 3ms/step - loss: 0.0923 - accuracy: 0.9791\n",
      "Epoch 66/100\n",
      "39/39 [==============================] - 0s 2ms/step - loss: 0.0907 - accuracy: 0.9738\n",
      "Epoch 67/100\n",
      "39/39 [==============================] - 0s 3ms/step - loss: 0.0895 - accuracy: 0.9738: 0s - loss: 0.0547 - accuracy: 0.\n",
      "Epoch 68/100\n",
      "39/39 [==============================] - 0s 3ms/step - loss: 0.0889 - accuracy: 0.9764\n",
      "Epoch 69/100\n",
      "39/39 [==============================] - 0s 3ms/step - loss: 0.0884 - accuracy: 0.9738\n",
      "Epoch 70/100\n",
      "39/39 [==============================] - 0s 3ms/step - loss: 0.0872 - accuracy: 0.9764\n",
      "Epoch 71/100\n",
      "39/39 [==============================] - 0s 3ms/step - loss: 0.0886 - accuracy: 0.9712\n",
      "Epoch 72/100\n",
      "39/39 [==============================] - ETA: 0s - loss: 0.0842 - accuracy: 0.97 - 0s 3ms/step - loss: 0.0853 - accuracy: 0.9738\n",
      "Epoch 73/100\n",
      "39/39 [==============================] - 0s 2ms/step - loss: 0.0844 - accuracy: 0.9791\n",
      "Epoch 74/100\n",
      "39/39 [==============================] - 0s 3ms/step - loss: 0.0844 - accuracy: 0.9738\n",
      "Epoch 75/100\n",
      "39/39 [==============================] - 0s 2ms/step - loss: 0.0831 - accuracy: 0.9817\n",
      "Epoch 76/100\n",
      "39/39 [==============================] - 0s 3ms/step - loss: 0.0817 - accuracy: 0.9738\n",
      "Epoch 77/100\n",
      "39/39 [==============================] - 0s 3ms/step - loss: 0.0806 - accuracy: 0.9791\n",
      "Epoch 78/100\n",
      "39/39 [==============================] - 0s 2ms/step - loss: 0.0797 - accuracy: 0.9791\n",
      "Epoch 79/100\n",
      "39/39 [==============================] - 0s 3ms/step - loss: 0.0789 - accuracy: 0.9791: 0s - loss: 0.0779 - accuracy: 0.97\n",
      "Epoch 80/100\n"
     ]
    },
    {
     "name": "stdout",
     "output_type": "stream",
     "text": [
      "39/39 [==============================] - 0s 2ms/step - loss: 0.0786 - accuracy: 0.9738\n",
      "Epoch 81/100\n",
      "39/39 [==============================] - 0s 3ms/step - loss: 0.0778 - accuracy: 0.9738\n",
      "Epoch 82/100\n",
      "39/39 [==============================] - 0s 2ms/step - loss: 0.0789 - accuracy: 0.9791\n",
      "Epoch 83/100\n",
      "39/39 [==============================] - 0s 3ms/step - loss: 0.0766 - accuracy: 0.9817\n",
      "Epoch 84/100\n",
      "39/39 [==============================] - 0s 2ms/step - loss: 0.0767 - accuracy: 0.9712\n",
      "Epoch 85/100\n",
      "39/39 [==============================] - 0s 2ms/step - loss: 0.0743 - accuracy: 0.9817\n",
      "Epoch 86/100\n",
      "39/39 [==============================] - 0s 3ms/step - loss: 0.0733 - accuracy: 0.9738\n",
      "Epoch 87/100\n",
      "39/39 [==============================] - 0s 2ms/step - loss: 0.0734 - accuracy: 0.9817\n",
      "Epoch 88/100\n",
      "39/39 [==============================] - 0s 3ms/step - loss: 0.0725 - accuracy: 0.9738\n",
      "Epoch 89/100\n",
      "39/39 [==============================] - 0s 3ms/step - loss: 0.0716 - accuracy: 0.9817\n",
      "Epoch 90/100\n",
      "39/39 [==============================] - 0s 3ms/step - loss: 0.0713 - accuracy: 0.9712\n",
      "Epoch 91/100\n",
      "39/39 [==============================] - 0s 3ms/step - loss: 0.0706 - accuracy: 0.9843\n",
      "Epoch 92/100\n",
      "39/39 [==============================] - 0s 2ms/step - loss: 0.0709 - accuracy: 0.9817\n",
      "Epoch 93/100\n",
      "39/39 [==============================] - 0s 2ms/step - loss: 0.0695 - accuracy: 0.9764\n",
      "Epoch 94/100\n",
      "39/39 [==============================] - 0s 2ms/step - loss: 0.0689 - accuracy: 0.9764\n",
      "Epoch 95/100\n",
      "39/39 [==============================] - 0s 3ms/step - loss: 0.0677 - accuracy: 0.9817\n",
      "Epoch 96/100\n",
      "39/39 [==============================] - 0s 2ms/step - loss: 0.0676 - accuracy: 0.9869\n",
      "Epoch 97/100\n",
      "39/39 [==============================] - 0s 2ms/step - loss: 0.0671 - accuracy: 0.9843\n",
      "Epoch 98/100\n",
      "39/39 [==============================] - ETA: 0s - loss: 0.0614 - accuracy: 0.98 - 0s 3ms/step - loss: 0.0659 - accuracy: 0.9843\n",
      "Epoch 99/100\n",
      "39/39 [==============================] - 0s 5ms/step - loss: 0.0677 - accuracy: 0.9791\n",
      "Epoch 100/100\n",
      "39/39 [==============================] - 0s 4ms/step - loss: 0.0660 - accuracy: 0.9817\n",
      "12/12 [==============================] - 0s 2ms/step - loss: 0.0633 - accuracy: 0.9843\n",
      "accuracy: 98.43%\n"
     ]
    }
   ],
   "source": [
    "# Model\n",
    "adam = Adam(lr=0.001)\n",
    "model.compile(loss='binary_crossentropy',\n",
    "optimizer='adam', metrics=['accuracy'])\n",
    "model.fit(X_train, Y_train, epochs=100, batch_size=10)\n",
    "scores = model.evaluate(X_train, Y_train)\n",
    "print(\"%s: %.2f%%\" % (model.metrics_names[1], scores[1] * 100))"
   ]
  },
  {
   "cell_type": "code",
   "execution_count": 29,
   "id": "0d8d0865",
   "metadata": {},
   "outputs": [
    {
     "name": "stdout",
     "output_type": "stream",
     "text": [
      "6/6 [==============================] - 0s 2ms/step\n",
      "Test Accuracy:  kalite    95.757576\n",
      "dtype: float64 %\n"
     ]
    }
   ],
   "source": [
    "#Tahmin\n",
    "prediction = model.predict_classes(X_test, verbose = 1)\n",
    "import numpy as np\n",
    "correct = np.sum(prediction ==  Y_test)\n",
    "print ('Test Accuracy: ', correct/float(Y_test.shape[0])*100.0, '%')\n"
   ]
  },
  {
   "cell_type": "code",
   "execution_count": 26,
   "id": "f0b272da",
   "metadata": {},
   "outputs": [
    {
     "name": "stdout",
     "output_type": "stream",
     "text": [
      "X=[10.3 12.4  9.3 14.6 12.2], Predicted=[0]\n"
     ]
    }
   ],
   "source": [
    "#Rastgele bir girdi ile test edelim\n",
    "from numpy import array\n",
    "Xnew=array([[10.3, 12.4, 9.3, 14.6, 12.20]])\n",
    "Ynew=model.predict_classes(Xnew)\n",
    "print(\"X=%s, Predicted=%s\" % (Xnew[0], Ynew[0]))\n",
    "\n"
   ]
  },
  {
   "cell_type": "code",
   "execution_count": 27,
   "id": "dd3ddc31",
   "metadata": {},
   "outputs": [
    {
     "name": "stdout",
     "output_type": "stream",
     "text": [
      "              precision    recall  f1-score   support\n",
      "\n",
      "           0       0.95      0.98      0.96        92\n",
      "           1       0.97      0.93      0.95        73\n",
      "\n",
      "    accuracy                           0.96       165\n",
      "   macro avg       0.96      0.95      0.96       165\n",
      "weighted avg       0.96      0.96      0.96       165\n",
      "\n",
      "[[90  2]\n",
      " [ 5 68]]\n",
      "RMSE:\n",
      "0.2059714602177749\n"
     ]
    }
   ],
   "source": [
    "#Performans Ölçütleri\n",
    "import sklearn.metrics as metrics\n",
    "print(metrics.classification_report(Y_test,prediction))\n",
    "print(metrics.confusion_matrix(Y_test,prediction))\n",
    "print(\"RMSE:\")\n",
    "print(np.sqrt(metrics.mean_squared_error(Y_test, prediction)))"
   ]
  },
  {
   "cell_type": "code",
   "execution_count": null,
   "id": "abf81f05",
   "metadata": {},
   "outputs": [],
   "source": []
  }
 ],
 "metadata": {
  "kernelspec": {
   "display_name": "Python 3",
   "language": "python",
   "name": "python3"
  },
  "language_info": {
   "codemirror_mode": {
    "name": "ipython",
    "version": 3
   },
   "file_extension": ".py",
   "mimetype": "text/x-python",
   "name": "python",
   "nbconvert_exporter": "python",
   "pygments_lexer": "ipython3",
   "version": "3.8.8"
  }
 },
 "nbformat": 4,
 "nbformat_minor": 5
}
