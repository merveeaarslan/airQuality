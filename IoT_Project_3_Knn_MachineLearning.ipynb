{
 "cells": [
  {
   "cell_type": "code",
   "execution_count": 7,
   "id": "7c6ddd8b",
   "metadata": {},
   "outputs": [],
   "source": [
    "import pandas as pd\n",
    "import numpy as np\n",
    "import matplotlib.pyplot as plt"
   ]
  },
  {
   "cell_type": "code",
   "execution_count": 8,
   "id": "06cb7072",
   "metadata": {},
   "outputs": [
    {
     "data": {
      "text/html": [
       "<div>\n",
       "<style scoped>\n",
       "    .dataframe tbody tr th:only-of-type {\n",
       "        vertical-align: middle;\n",
       "    }\n",
       "\n",
       "    .dataframe tbody tr th {\n",
       "        vertical-align: top;\n",
       "    }\n",
       "\n",
       "    .dataframe thead th {\n",
       "        text-align: right;\n",
       "    }\n",
       "</style>\n",
       "<table border=\"1\" class=\"dataframe\">\n",
       "  <thead>\n",
       "    <tr style=\"text-align: right;\">\n",
       "      <th></th>\n",
       "      <th>PM10 ( µg/m3 )</th>\n",
       "      <th>SO2 ( µg/m3 )</th>\n",
       "      <th>NO2 ( µg/m3 )</th>\n",
       "      <th>NOX ( µg/m3 )</th>\n",
       "      <th>PM 2.5 ( µg/m3 )</th>\n",
       "      <th>kalite</th>\n",
       "    </tr>\n",
       "  </thead>\n",
       "  <tbody>\n",
       "    <tr>\n",
       "      <th>0</th>\n",
       "      <td>18.98</td>\n",
       "      <td>40.06</td>\n",
       "      <td>14.24</td>\n",
       "      <td>32.99</td>\n",
       "      <td>10.74</td>\n",
       "      <td>1</td>\n",
       "    </tr>\n",
       "    <tr>\n",
       "      <th>1</th>\n",
       "      <td>27.72</td>\n",
       "      <td>49.80</td>\n",
       "      <td>14.76</td>\n",
       "      <td>32.97</td>\n",
       "      <td>17.53</td>\n",
       "      <td>0</td>\n",
       "    </tr>\n",
       "    <tr>\n",
       "      <th>2</th>\n",
       "      <td>31.96</td>\n",
       "      <td>65.48</td>\n",
       "      <td>14.59</td>\n",
       "      <td>36.73</td>\n",
       "      <td>18.64</td>\n",
       "      <td>0</td>\n",
       "    </tr>\n",
       "    <tr>\n",
       "      <th>3</th>\n",
       "      <td>8.09</td>\n",
       "      <td>36.59</td>\n",
       "      <td>15.84</td>\n",
       "      <td>28.18</td>\n",
       "      <td>3.60</td>\n",
       "      <td>1</td>\n",
       "    </tr>\n",
       "    <tr>\n",
       "      <th>4</th>\n",
       "      <td>17.33</td>\n",
       "      <td>48.34</td>\n",
       "      <td>14.56</td>\n",
       "      <td>37.10</td>\n",
       "      <td>9.28</td>\n",
       "      <td>0</td>\n",
       "    </tr>\n",
       "  </tbody>\n",
       "</table>\n",
       "</div>"
      ],
      "text/plain": [
       "   PM10 ( µg/m3 )  SO2 ( µg/m3 )  NO2 ( µg/m3 )  NOX ( µg/m3 )  \\\n",
       "0           18.98          40.06          14.24          32.99   \n",
       "1           27.72          49.80          14.76          32.97   \n",
       "2           31.96          65.48          14.59          36.73   \n",
       "3            8.09          36.59          15.84          28.18   \n",
       "4           17.33          48.34          14.56          37.10   \n",
       "\n",
       "   PM 2.5 ( µg/m3 )  kalite  \n",
       "0             10.74       1  \n",
       "1             17.53       0  \n",
       "2             18.64       0  \n",
       "3              3.60       1  \n",
       "4              9.28       0  "
      ]
     },
     "execution_count": 8,
     "metadata": {},
     "output_type": "execute_result"
    }
   ],
   "source": [
    "data = pd.read_csv(r\"C:\\Users\\merve\\Desktop\\tavsanliHavaKalitesi.csv\")\n",
    "data.head()"
   ]
  },
  {
   "cell_type": "code",
   "execution_count": 9,
   "id": "c6eab550",
   "metadata": {},
   "outputs": [],
   "source": [
    "X = data.drop('kalite', axis=1)\n",
    "Y = data['kalite']"
   ]
  },
  {
   "cell_type": "code",
   "execution_count": 10,
   "id": "94a996bb",
   "metadata": {},
   "outputs": [],
   "source": [
    "#eğitim ve test\n",
    "from sklearn.model_selection import train_test_split\n",
    "X_train, X_test, Y_train, Y_test = train_test_split(X, Y, test_size=0.3)"
   ]
  },
  {
   "cell_type": "code",
   "execution_count": 11,
   "id": "f9b9b483",
   "metadata": {},
   "outputs": [],
   "source": [
    "from sklearn.preprocessing import StandardScaler\n",
    "sc_X = StandardScaler()\n",
    "X_train = sc_X.fit_transform(X_train)\n",
    "X_test = sc_X.transform(X_test)"
   ]
  },
  {
   "cell_type": "code",
   "execution_count": 12,
   "id": "8bafbe80",
   "metadata": {},
   "outputs": [
    {
     "data": {
      "text/plain": [
       "KNeighborsClassifier(n_neighbors=8)"
      ]
     },
     "execution_count": 12,
     "metadata": {},
     "output_type": "execute_result"
    }
   ],
   "source": [
    "#KNN\n",
    "from sklearn.neighbors import KNeighborsClassifier\n",
    "classifier = KNeighborsClassifier(n_neighbors=8)\n",
    "classifier.fit(X_train, Y_train)"
   ]
  },
  {
   "cell_type": "code",
   "execution_count": 16,
   "id": "b7b09388",
   "metadata": {},
   "outputs": [
    {
     "name": "stdout",
     "output_type": "stream",
     "text": [
      "Test Accuracy:  90.30303030303031 %\n"
     ]
    }
   ],
   "source": [
    "prediction = classifier.predict(X_test)\n",
    "import numpy as np\n",
    "correct = np.sum(prediction ==  Y_test)\n",
    "print ('Test Accuracy: ', correct/float(Y_test.shape[0])*100.0, '%')"
   ]
  },
  {
   "cell_type": "code",
   "execution_count": 14,
   "id": "d4ff18c8",
   "metadata": {},
   "outputs": [
    {
     "name": "stdout",
     "output_type": "stream",
     "text": [
      "Confusion Matrix:\n",
      "[[98  4]\n",
      " [12 51]]\n",
      "Classification Report:\n",
      "              precision    recall  f1-score   support\n",
      "\n",
      "           0       0.89      0.96      0.92       102\n",
      "           1       0.93      0.81      0.86        63\n",
      "\n",
      "    accuracy                           0.90       165\n",
      "   macro avg       0.91      0.89      0.89       165\n",
      "weighted avg       0.90      0.90      0.90       165\n",
      "\n",
      "Accuracy: 0.9030303030303031\n",
      "RMSE:\n",
      "0.3113995776646092\n"
     ]
    }
   ],
   "source": [
    "#Performans Ölçütleri\n",
    "import sklearn.metrics as metrics\n",
    "from sklearn.metrics import classification_report, confusion_matrix, accuracy_score\n",
    "result = confusion_matrix(Y_test, prediction)\n",
    "print(\"Confusion Matrix:\")\n",
    "print(result)\n",
    "result1 = classification_report(Y_test, prediction)\n",
    "print(\"Classification Report:\",)\n",
    "print (result1)\n",
    "result2 = accuracy_score(Y_test,prediction)\n",
    "print(\"Accuracy:\",result2)\n",
    "print(\"RMSE:\")\n",
    "print(np.sqrt(metrics.mean_squared_error(Y_test, prediction)))"
   ]
  },
  {
   "cell_type": "code",
   "execution_count": 15,
   "id": "936ffebf",
   "metadata": {},
   "outputs": [
    {
     "data": {
      "image/png": "[encoded data removed]",
      "text/plain": [
       "<Figure size 432x288 with 1 Axes>"
      ]
     },
     "metadata": {
      "needs_background": "light"
     },
     "output_type": "display_data"
    }
   ],
   "source": [
    "#ROC \n",
    "import sklearn.metrics as metrics\n",
    "import matplotlib.pyplot as plt\n",
    "probs = classifier.predict_proba(X_test)\n",
    "preds = probs[:,1]\n",
    "fpr, tpr, threshold = metrics.roc_curve(Y_test, preds)\n",
    "roc_auc = metrics.auc(fpr, tpr)\n",
    "\n",
    "plt.title('knn')\n",
    "plt.plot(fpr, tpr, 'b', label = 'AUC = %0.2f' % roc_auc)\n",
    "plt.legend(loc = 'lower right')\n",
    "plt.plot([0, 1], [0, 1],'r--')\n",
    "plt.xlim([0, 1])\n",
    "plt.ylim([0, 1])\n",
    "plt.ylabel('True Positive Rate')\n",
    "plt.xlabel('False Positive Rate')\n",
    "plt.show()"
   ]
  },
  {
   "cell_type": "code",
   "execution_count": null,
   "id": "b77a2674",
   "metadata": {},
   "outputs": [],
   "source": []
  }
 ],
 "metadata": {
  "kernelspec": {
   "display_name": "Python 3",
   "language": "python",
   "name": "python3"
  },
  "language_info": {
   "codemirror_mode": {
    "name": "ipython",
    "version": 3
   },
   "file_extension": ".py",
   "mimetype": "text/x-python",
   "name": "python",
   "nbconvert_exporter": "python",
   "pygments_lexer": "ipython3",
   "version": "3.8.8"
  }
 },
 "nbformat": 4,
 "nbformat_minor": 5
}
