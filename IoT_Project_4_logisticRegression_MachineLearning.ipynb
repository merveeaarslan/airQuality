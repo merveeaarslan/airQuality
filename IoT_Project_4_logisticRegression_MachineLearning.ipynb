{
 "cells": [
  {
   "cell_type": "code",
   "execution_count": 14,
   "id": "466c7857",
   "metadata": {},
   "outputs": [],
   "source": [
    "import pandas as pd\n",
    "import numpy as np\n",
    "import matplotlib.pyplot as plt"
   ]
  },
  {
   "cell_type": "code",
   "execution_count": 15,
   "id": "3480f86c",
   "metadata": {},
   "outputs": [
    {
     "data": {
      "text/html": [
       "<div>\n",
       "<style scoped>\n",
       "    .dataframe tbody tr th:only-of-type {\n",
       "        vertical-align: middle;\n",
       "    }\n",
       "\n",
       "    .dataframe tbody tr th {\n",
       "        vertical-align: top;\n",
       "    }\n",
       "\n",
       "    .dataframe thead th {\n",
       "        text-align: right;\n",
       "    }\n",
       "</style>\n",
       "<table border=\"1\" class=\"dataframe\">\n",
       "  <thead>\n",
       "    <tr style=\"text-align: right;\">\n",
       "      <th></th>\n",
       "      <th>PM10 ( µg/m3 )</th>\n",
       "      <th>SO2 ( µg/m3 )</th>\n",
       "      <th>NO2 ( µg/m3 )</th>\n",
       "      <th>NOX ( µg/m3 )</th>\n",
       "      <th>PM 2.5 ( µg/m3 )</th>\n",
       "      <th>kalite</th>\n",
       "    </tr>\n",
       "  </thead>\n",
       "  <tbody>\n",
       "    <tr>\n",
       "      <th>0</th>\n",
       "      <td>18.98</td>\n",
       "      <td>40.06</td>\n",
       "      <td>14.24</td>\n",
       "      <td>32.99</td>\n",
       "      <td>10.74</td>\n",
       "      <td>1</td>\n",
       "    </tr>\n",
       "    <tr>\n",
       "      <th>1</th>\n",
       "      <td>27.72</td>\n",
       "      <td>49.80</td>\n",
       "      <td>14.76</td>\n",
       "      <td>32.97</td>\n",
       "      <td>17.53</td>\n",
       "      <td>0</td>\n",
       "    </tr>\n",
       "    <tr>\n",
       "      <th>2</th>\n",
       "      <td>31.96</td>\n",
       "      <td>65.48</td>\n",
       "      <td>14.59</td>\n",
       "      <td>36.73</td>\n",
       "      <td>18.64</td>\n",
       "      <td>0</td>\n",
       "    </tr>\n",
       "    <tr>\n",
       "      <th>3</th>\n",
       "      <td>8.09</td>\n",
       "      <td>36.59</td>\n",
       "      <td>15.84</td>\n",
       "      <td>28.18</td>\n",
       "      <td>3.60</td>\n",
       "      <td>1</td>\n",
       "    </tr>\n",
       "    <tr>\n",
       "      <th>4</th>\n",
       "      <td>17.33</td>\n",
       "      <td>48.34</td>\n",
       "      <td>14.56</td>\n",
       "      <td>37.10</td>\n",
       "      <td>9.28</td>\n",
       "      <td>0</td>\n",
       "    </tr>\n",
       "  </tbody>\n",
       "</table>\n",
       "</div>"
      ],
      "text/plain": [
       "   PM10 ( µg/m3 )  SO2 ( µg/m3 )  NO2 ( µg/m3 )  NOX ( µg/m3 )  \\\n",
       "0           18.98          40.06          14.24          32.99   \n",
       "1           27.72          49.80          14.76          32.97   \n",
       "2           31.96          65.48          14.59          36.73   \n",
       "3            8.09          36.59          15.84          28.18   \n",
       "4           17.33          48.34          14.56          37.10   \n",
       "\n",
       "   PM 2.5 ( µg/m3 )  kalite  \n",
       "0             10.74       1  \n",
       "1             17.53       0  \n",
       "2             18.64       0  \n",
       "3              3.60       1  \n",
       "4              9.28       0  "
      ]
     },
     "execution_count": 15,
     "metadata": {},
     "output_type": "execute_result"
    }
   ],
   "source": [
    "data = pd.read_csv(r\"C:\\Users\\merve\\Desktop\\tavsanliHavaKalitesi.csv\")\n",
    "data.head()"
   ]
  },
  {
   "cell_type": "code",
   "execution_count": 16,
   "id": "2ad5bb24",
   "metadata": {},
   "outputs": [],
   "source": [
    "X = data.drop('kalite', axis=1)\n",
    "Y = data['kalite']"
   ]
  },
  {
   "cell_type": "code",
   "execution_count": 17,
   "id": "193ad88d",
   "metadata": {},
   "outputs": [],
   "source": [
    "#eğitim ve test\n",
    "from sklearn.model_selection import train_test_split\n",
    "X_train, X_test, Y_train, Y_test = train_test_split(X, Y, test_size=0.3)"
   ]
  },
  {
   "cell_type": "code",
   "execution_count": 18,
   "id": "76280828",
   "metadata": {},
   "outputs": [],
   "source": [
    "from sklearn.preprocessing import StandardScaler\n",
    "sc_X = StandardScaler()\n",
    "X_train = sc_X.fit_transform(X_train)\n",
    "X_test = sc_X.transform(X_test)"
   ]
  },
  {
   "cell_type": "code",
   "execution_count": 19,
   "id": "0a1eeb4c",
   "metadata": {},
   "outputs": [
    {
     "data": {
      "text/plain": [
       "LogisticRegression()"
      ]
     },
     "execution_count": 19,
     "metadata": {},
     "output_type": "execute_result"
    }
   ],
   "source": [
    "#logisticRegresssion\n",
    "from sklearn.linear_model import LogisticRegression\n",
    "logreg = LogisticRegression()\n",
    "logreg.fit(X_train,Y_train)\n"
   ]
  },
  {
   "cell_type": "code",
   "execution_count": 20,
   "id": "8b58af18",
   "metadata": {},
   "outputs": [
    {
     "name": "stdout",
     "output_type": "stream",
     "text": [
      "Test Accuracy:  78.78787878787878 %\n"
     ]
    }
   ],
   "source": [
    "prediction=logreg.predict(X_test)\n",
    "import numpy as np\n",
    "correct = np.sum(prediction ==  Y_test)\n",
    "print ('Test Accuracy: ', correct/float(Y_test.shape[0])*100.0, '%')"
   ]
  },
  {
   "cell_type": "code",
   "execution_count": 21,
   "id": "0f73ba96",
   "metadata": {},
   "outputs": [
    {
     "data": {
      "text/plain": [
       "array([[79, 12],\n",
       "       [23, 51]], dtype=int64)"
      ]
     },
     "execution_count": 21,
     "metadata": {},
     "output_type": "execute_result"
    }
   ],
   "source": [
    "from sklearn import metrics\n",
    "cnf_matrix = metrics.confusion_matrix(Y_test, prediction)\n",
    "cnf_matrix"
   ]
  },
  {
   "cell_type": "code",
   "execution_count": 22,
   "id": "b841b326",
   "metadata": {},
   "outputs": [
    {
     "name": "stdout",
     "output_type": "stream",
     "text": [
      "Classification Report:\n",
      "              precision    recall  f1-score   support\n",
      "\n",
      "           0       0.77      0.87      0.82        91\n",
      "           1       0.81      0.69      0.74        74\n",
      "\n",
      "    accuracy                           0.79       165\n",
      "   macro avg       0.79      0.78      0.78       165\n",
      "weighted avg       0.79      0.79      0.79       165\n",
      "\n",
      "RMSE:\n",
      "0.4605661864718383\n"
     ]
    }
   ],
   "source": [
    "#Performans Ölçütleri\n",
    "import sklearn.metrics as metrics\n",
    "from sklearn.metrics import classification_report, confusion_matrix, accuracy_score\n",
    "result1 = classification_report(Y_test, prediction)\n",
    "print(\"Classification Report:\",)\n",
    "print (result1)\n",
    "print(\"RMSE:\")\n",
    "print(np.sqrt(metrics.mean_squared_error(Y_test, prediction)))"
   ]
  },
  {
   "cell_type": "code",
   "execution_count": 23,
   "id": "e57f1fdb",
   "metadata": {},
   "outputs": [
    {
     "data": {
      "image/png": "[encoded data removed]",
      "text/plain": [
       "<Figure size 432x288 with 1 Axes>"
      ]
     },
     "metadata": {
      "needs_background": "light"
     },
     "output_type": "display_data"
    }
   ],
   "source": [
    "#ROC \n",
    "import sklearn.metrics as metrics\n",
    "import matplotlib.pyplot as plt\n",
    "probs = logreg.predict_proba(X_test)\n",
    "preds = probs[:,1]\n",
    "fpr, tpr, threshold = metrics.roc_curve(Y_test, preds)\n",
    "roc_auc = metrics.auc(fpr, tpr)\n",
    "\n",
    "plt.title('logistic reg.')\n",
    "plt.plot(fpr, tpr, 'b', label = 'AUC = %0.2f' % roc_auc)\n",
    "plt.legend(loc = 'lower right')\n",
    "plt.plot([0, 1], [0, 1],'r--')\n",
    "plt.xlim([0, 1])\n",
    "plt.ylim([0, 1])\n",
    "plt.ylabel('True Positive Rate')\n",
    "plt.xlabel('False Positive Rate')\n",
    "plt.show()"
   ]
  },
  {
   "cell_type": "code",
   "execution_count": null,
   "id": "eb3dc267",
   "metadata": {},
   "outputs": [],
   "source": []
  }
 ],
 "metadata": {
  "kernelspec": {
   "display_name": "Python 3",
   "language": "python",
   "name": "python3"
  },
  "language_info": {
   "codemirror_mode": {
    "name": "ipython",
    "version": 3
   },
   "file_extension": ".py",
   "mimetype": "text/x-python",
   "name": "python",
   "nbconvert_exporter": "python",
   "pygments_lexer": "ipython3",
   "version": "3.8.8"
  }
 },
 "nbformat": 4,
 "nbformat_minor": 5
}
